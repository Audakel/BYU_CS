{
 "cells": [
  {
   "cell_type": "code",
   "execution_count": null,
   "metadata": {
    "collapsed": true
   },
   "outputs": [],
   "source": [
    "import argparse\n",
    "import sys\n",
    "import re\n",
    "from pyspark import SparkContext, SparkConf\n",
    "from scipy import stats\n",
    "import math\n",
    "import numbers\n",
    "import numpy as np\n",
    "import pandas as pd\n",
    "\n",
    "\n",
    "\"\"\"\n",
    "Headers\n",
    "\n",
    "['color', 'director_name', 'num_critic_for_reviews', 'duration', 'director_facebook_likes', 'actor_3_facebook_likes', 'actor_2_name', 'actor_1_facebook_likes', 'gross', 'genres', 'actor_1_name', 'movie_title', 'num_voted_users', 'cast_total_facebook_likes', 'actor_3_name', 'facenumber_in_poster', 'plot_keywords', 'movie_imdb_link', 'num_user_for_reviews', 'language', 'country', 'content_rating', 'budget', 'title_year', 'actor_2_facebook_likes', 'imdb_score', 'aspect_ratio', 'movie_facebook_likes']\n",
    "\"\"\"\n",
    "\n",
    "drop_cols = ['color', 'director_name', 'actor_2_name', 'genres','actor_1_name', 'movie_title', 'actor_3_name', 'plot_keywords', 'movie_imdb_link', 'language', 'country', 'content_rating', 'title_year']\n",
    "\n",
    "\n",
    "def init_argparse():\n",
    "    # Gives linux like comand line help and parsing ability \n",
    "\tparser = argparse.ArgumentParser(description='Finds trends in IMDb database with Lasso regression')\n",
    "\tparser.add_argument('in_file', nargs='+') #, type=argparse.FileType('r'), default=sys.stdin)\n",
    "\tparser.add_argument('out_file')\n",
    "\tparser.add_argument('-f', '--full', action='store_true', help='Full model: All predictors (identified for model inclusion during the data preprocessing step) included. No variable selection conducted.')\n",
    "\tparser.add_argument('-s','--stepwise', action='store_true', help='Using backwards stepwise regression (start with full model, eliminate one variable at a time based on the variable with the largest p-value, until only variables with a p-value < 0.05 remain)' )\n",
    "\tparser.add_argument('-l', '--lasso', action='store_true', help='Model obtained using LASSO regression.')\n",
    "\targs = parser.parse_args()\n",
    "\n",
    "\n",
    "\tdef full_reg():\n",
    "\t\tpass\n",
    "\n",
    "\n",
    "\tdef stepwise_reg():\n",
    "\t\tpass\n",
    "\n",
    "\n",
    "\tdef lasso_reg():\n",
    "\t\tpass\n",
    "\t\n",
    "\t\n",
    "\tdef prep_data(csv):\n",
    "\t\tdf = pd.read_csv(csv, header=None)\n",
    "\t\tdf = df.drop(drop_cols, axis=1)\t\t\n",
    "\t\t\n",
    "if __name__ == \"__main__\":\n",
    "\tinit_argparse()\n",
    "\n",
    "\tif args.f:\n",
    "\t\tfull_reg()\n",
    "\n",
    "\telif args.s:\n",
    "\t\tstepwise_reg()\n",
    "\n",
    "\telif args.l:\n",
    "\t\tlasso_reg()\n",
    "\n",
    "\telse:\n",
    "\t\tprint('Error, did you choose a regression?')\n",
    "\t\texit(1)\n",
    "\n",
    "\n"
   ]
  }
 ],
 "metadata": {
  "kernelspec": {
   "display_name": "Python [Root]",
   "language": "python",
   "name": "Python [Root]"
  },
  "language_info": {
   "codemirror_mode": {
    "name": "ipython",
    "version": 2
   },
   "file_extension": ".py",
   "mimetype": "text/x-python",
   "name": "python",
   "nbconvert_exporter": "python",
   "pygments_lexer": "ipython2",
   "version": "2.7.12"
  }
 },
 "nbformat": 4,
 "nbformat_minor": 0
}
