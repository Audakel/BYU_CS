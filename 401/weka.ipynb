

XMeans
======
Requested iterations            : 1
Iterations performed            : 1
Splits prepared                 : 2
Splits performed                : 1
Cutoff factor                   : 0.5
Percentage of splits accepted 
by cutoff factor                : 0 %
------
Cutoff factor                   : 0.5
------

Cluster centers                 : 3 centers

Cluster 0
            45.94736842105263 8029.368421052632 30031.842105263157 85.73684210526316 13.657894736842104 44.8421052631579 354.7368421052632
Cluster 1
            148.35333333333332 1872.6666666666667 8291.08 13.266666666666667 2.953333333333333 13.813333333333333 54.89333333333333
Cluster 2
            885.7142857142857 637.7142857142857 3834.4761904761904 0.9523809523809523 0.9523809523809523 2.0 17.19047619047619

Distortion: 52.578638
BIC-Value : 676.233187


Time taken to build model (full training data) : 0.01 seconds

=== Model and evaluation on training set ===

Clustered Instances

0       36 ( 17%)
1      152 ( 73%)
2       21 ( 10%)
