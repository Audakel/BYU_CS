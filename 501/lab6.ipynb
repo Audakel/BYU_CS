{
 "cells": [
  {
   "cell_type": "code",
   "execution_count": 1,
   "metadata": {
    "collapsed": false
   },
   "outputs": [
    {
     "name": "stdout",
     "output_type": "stream",
     "text": [
      "Extracting MNIST_data/train-images-idx3-ubyte.gz\n",
      "Extracting MNIST_data/train-labels-idx1-ubyte.gz\n",
      "Extracting MNIST_data/t10k-images-idx3-ubyte.gz\n",
      "Extracting MNIST_data/t10k-labels-idx1-ubyte.gz\n",
      "step 0, training accuracy 0.1\n",
      "step 25, training accuracy 0.145\n",
      "step 50, training accuracy 0.345\n",
      "step 75, training accuracy 0.492\n",
      "drop 0.1 test accuracy 0.535099983215 kpi 0\n"
     ]
    }
   ],
   "source": [
    "import tensorflow as tf\n",
    "from tensorflow.examples.tutorials.mnist import input_data\n",
    "import numpy as np\n",
    "import matplotlib.pyplot as plt\n",
    "\n",
    "\n",
    "kpi = 0\n",
    "keep_probability = [0.1, 0.25, 0.5, 0.75, 1.0]\n",
    "# Toggle btwn dropout and dropConnect\n",
    "dc = False\n",
    "_lambda = 0.0001\n",
    "# ==================================================================\n",
    "#\n",
    "\n",
    "def weight_variable(shape):\n",
    "    initial = tf.truncated_normal(shape, stddev=0.1)\n",
    "    return tf.Variable(initial)\n",
    "\n",
    "\n",
    "def bias_variable(shape):\n",
    "    initial = tf.constant(0.1, shape=shape)\n",
    "    return tf.Variable(initial)\n",
    "\n",
    "\n",
    "def dropout(h):\n",
    "    if not dc:\n",
    "        d = np.random.binomial([np.ones((h.get_shape()[1]))], keep_probability[kpi])[0] #* (1.0/(keep_probability[kpi]))\n",
    "        return tf.mul(h, d)\n",
    "    return h\n",
    "\n",
    "def dropconnect(w):\n",
    "    if dc:\n",
    "        d = np.random.binomial([np.ones((w.get_shape()))], keep_probability[kpi])[0]\n",
    "        # return tf.mul(w, d)\n",
    "        return w * d\n",
    "    return w\n",
    "\n",
    "def sum_weights(w1,w2,w3,b1,b2,b3):\n",
    "    sw = [w1,w2,w3,b1,b2,b3]\n",
    "    t = 0\n",
    "    for x in sw:\n",
    "        t += tf.reduce_sum(tf.abs(x))\n",
    "    return t\n",
    "\n",
    "#\n",
    "# ==================================================================\n",
    "#\n",
    "\n",
    "# Declare computation graph\n",
    "\n",
    "y_ = tf.placeholder(tf.float32, shape=[None, 10], name=\"y_\")\n",
    "x = tf.placeholder(tf.float32, [None, 784], name=\"x\")\n",
    "\n",
    "W1 = weight_variable([784, 500])\n",
    "# W1 = dropconnect(W1)\n",
    "b1 = bias_variable([500])\n",
    "h1 = tf.nn.relu(tf.matmul(x, dropconnect(W1)) + b1)\n",
    "\n",
    "# Drop\n",
    "h1 = dropout(h1)\n",
    "\n",
    "W2 = weight_variable([500, 500])\n",
    "# W2 = dropconnect(W2)\n",
    "b2 = bias_variable([500])\n",
    "h2 = tf.nn.relu(tf.matmul(h1, dropconnect(W2)) + b2)\n",
    "\n",
    "# Drop\n",
    "h2 = dropout(h2)\n",
    "\n",
    "W3 = weight_variable([500, 1000])\n",
    "# W3 = dropconnect(W3)\n",
    "b3 = bias_variable([1000])\n",
    "h3 = tf.nn.relu(tf.matmul(h2, dropconnect(W3)) + b3)\n",
    "\n",
    "# Drop\n",
    "h3 = dropout(h3)\n",
    "\n",
    "W4 = weight_variable([1000, 10])\n",
    "b4 = bias_variable([10])\n",
    "y_hat = tf.nn.softmax(tf.matmul(h3, W4) + b4)\n",
    "\n",
    "cross_entropy = tf.reduce_mean(-tf.reduce_sum(y_ * tf.log(y_hat), reduction_indices=[1]))\n",
    "xent_summary = tf.scalar_summary('xent', cross_entropy)\n",
    "\n",
    "correct_prediction = tf.equal(tf.argmax(y_hat, 1), tf.argmax(y_, 1))\n",
    "accuracy = tf.reduce_mean(tf.cast(correct_prediction, tf.float32))\n",
    "acc_summary = tf.scalar_summary('accuracy', accuracy)\n",
    "\n",
    "train_step = tf.train.AdamOptimizer(1e-4).minimize(cross_entropy + _lambda * sum_weights(W1,W2,W3, b1,b2,b3))\n",
    "\n",
    "#\n",
    "# ==================================================================\n",
    "#\n",
    "\n",
    "# sess.run(tf.initialize_all_variables())\n",
    "\n",
    "#\n",
    "# ==================================================================\n",
    "#\n",
    "\n",
    "# NOTE: we're using a single, fixed batch of the first 1000 images\n",
    "mnist = input_data.read_data_sets(\"MNIST_data/\", one_hot=True)\n",
    "\n",
    "images = mnist.train.images[0:1000, :]\n",
    "labels = mnist.train.labels[0:1000, :]\n",
    "\n",
    "ga_train = []\n",
    "ga_trial = []\n",
    "\n",
    "\n",
    "# for k in keep_probability:\n",
    "\n",
    "sess = tf.Session()\n",
    "sess.run(tf.initialize_all_variables())\n",
    "for i in range(100):\n",
    "    _, acc = sess.run([train_step, accuracy], feed_dict={x: images, y_: labels})\n",
    "\n",
    "    if (i == 90):\n",
    "        ga_train.append(acc)\n",
    "    if (i % 25 == 0):\n",
    "        print(\"step %d, training accuracy %g\" % (i, acc))\n",
    "\n",
    "final_acc = sess.run(accuracy, feed_dict={x: mnist.test.images, y_: mnist.test.labels})\n",
    "ga_trial.append(final_acc)\n",
    "print(\"drop {} test accuracy {} kpi {}\".format(keep_probability[kpi], final_acc, kpi))\n",
    "\n"
   ]
  },
  {
   "cell_type": "code",
   "execution_count": 2,
   "metadata": {
    "collapsed": false
   },
   "outputs": [
    {
     "data": {
      "text/html": [
       "<img src=\"http://i.imgur.com/BMZ4RMi.png\"/>"
      ],
      "text/plain": [
       "<IPython.core.display.Image object>"
      ]
     },
     "execution_count": 2,
     "metadata": {},
     "output_type": "execute_result"
    }
   ],
   "source": [
    "import requests\n",
    "from StringIO import StringIO\n",
    "from IPython.display import Image, display\n",
    "\n",
    "url = \"http://i.imgur.com/BMZ4RMi.png\"\n",
    "Image(url= url)"
   ]
  },
  {
   "cell_type": "code",
   "execution_count": null,
   "metadata": {
    "collapsed": true
   },
   "outputs": [],
   "source": []
  }
 ],
 "metadata": {
  "kernelspec": {
   "display_name": "Python [tensorflow]",
   "language": "python",
   "name": "Python [tensorflow]"
  },
  "language_info": {
   "codemirror_mode": {
    "name": "ipython",
    "version": 2
   },
   "file_extension": ".py",
   "mimetype": "text/x-python",
   "name": "python",
   "nbconvert_exporter": "python",
   "pygments_lexer": "ipython2",
   "version": "2.7.12"
  }
 },
 "nbformat": 4,
 "nbformat_minor": 0
}
